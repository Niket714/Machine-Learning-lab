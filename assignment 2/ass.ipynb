{
 "cells": [
  {
   "cell_type": "markdown",
   "metadata": {},
   "source": [
    "# MRF Stock Price Prediction\n",
    "## predict the future closing price depending on historical data \n",
    "Data is between 01-07-2002 to 29-09-2021\n",
    "The Attributes are:\n",
    "The date - \"Date\"\n",
    "The opening price of the stock - \"Open\"\n",
    "The high price of that day - \"High\"\n",
    "The low price of that day - \"Low\"\n",
    "The number of stocks traded during that day - \"Volume\"\n",
    "The closed price of that day - \"Close\""
   ]
  },
  {
   "cell_type": "code",
   "execution_count": 78,
   "metadata": {},
   "outputs": [
    {
     "name": "stdout",
     "output_type": "stream",
     "text": [
      "    Open   High    Low  Volume       Close\n",
      "0  910.0  910.0  880.0   426.0  897.599976\n",
      "1  900.0  905.0  895.0   310.0  903.650024\n",
      "2  910.0  910.0  900.0   336.0  906.700012\n",
      "3  920.0  925.0  910.0   591.0  916.799988\n",
      "4  915.0  935.0  910.0  1623.0  927.299988\n",
      "Index(['Open', 'High', 'Low', 'Volume', 'Close'], dtype='object')\n"
     ]
    }
   ],
   "source": [
    "import pandas as pd \n",
    "import numpy as np \n",
    "import matplotlib.pyplot as plt \n",
    "import seaborn as sns \n",
    "from sklearn.model_selection import train_test_split \n",
    "from sklearn.metrics import mean_squared_error, mean_absolute_error , r2_score\n",
    "from sklearn import preprocessing \n",
    "\n",
    "df = pd.read_csv('MRF.NS.csv') \n",
    "df = df.fillna(df.mean())\n",
    "  \n",
    "print(df.head()) \n",
    "print(df.columns)\n",
    "\n",
    "X = df.drop('Close' ,axis= 1) \n",
    "y = df['Close'] \n",
    "# print(X) \n",
    "# print(y)\n",
    "\n",
    "X_train, X_test, y_train, y_test = train_test_split( X, y, test_size=0.3, random_state=101)"
   ]
  },
  {
   "cell_type": "markdown",
   "metadata": {},
   "source": [
    "## Linear Regression"
   ]
  },
  {
   "cell_type": "code",
   "execution_count": 79,
   "metadata": {},
   "outputs": [
    {
     "name": "stdout",
     "output_type": "stream",
     "text": [
      "mean_squared_error :  58669.933585584244\n",
      "mean_absolute_error :  116.90523966125394\n",
      "r2_score :  0.999918094526541\n"
     ]
    }
   ],
   "source": [
    "from sklearn.linear_model import LinearRegression\n",
    "\n",
    "model = LinearRegression() \n",
    "model.fit(X_train,y_train)\n",
    "predictions = model.predict(X_test) \n",
    "\n",
    "\n",
    "# Evaluate\n",
    "print('mean_squared_error : ', mean_squared_error(y_test, predictions)) \n",
    "print('mean_absolute_error : ', mean_absolute_error(y_test, predictions))\n",
    "print('r2_score : ', r2_score(y_test, predictions))  "
   ]
  },
  {
   "cell_type": "markdown",
   "metadata": {},
   "source": [
    "## Ridge Regularization"
   ]
  },
  {
   "cell_type": "code",
   "execution_count": 80,
   "metadata": {},
   "outputs": [
    {
     "name": "stdout",
     "output_type": "stream",
     "text": [
      "mean_squared_error :  58669.933574793875\n",
      "mean_absolute_error :  116.90523967163982\n",
      "r2_score :  0.9999180945265561\n"
     ]
    }
   ],
   "source": [
    "from sklearn.linear_model import Ridge\n",
    "\n",
    "# training model with 0.5 alpha value \n",
    "model = Ridge(alpha = 0.5,solver ='auto', random_state = 42) \n",
    "model.fit(X_train, y_train) \n",
    "  \n",
    "# predicting the y_test \n",
    "y_pred = model.predict(X_test) \n",
    "\n",
    "\n",
    "# Evaluate\n",
    "print('mean_squared_error : ', mean_squared_error(y_test, y_pred)) \n",
    "print('mean_absolute_error : ', mean_absolute_error(y_test, y_pred))\n",
    "print('r2_score : ', r2_score(y_test, y_pred))  "
   ]
  },
  {
   "cell_type": "markdown",
   "metadata": {},
   "source": [
    "## Lasso Regularization"
   ]
  },
  {
   "cell_type": "code",
   "execution_count": 83,
   "metadata": {},
   "outputs": [
    {
     "name": "stdout",
     "output_type": "stream",
     "text": [
      "mean_squared_error :  337079.26827390137\n",
      "mean_absolute_error :  281.26748808674273\n",
      "r2_score :  0.9995294244364379\n"
     ]
    },
    {
     "name": "stderr",
     "output_type": "stream",
     "text": [
      "c:\\Users\\Niket Ralebhat\\AppData\\Local\\Programs\\Python\\Python312\\Lib\\site-packages\\sklearn\\linear_model\\_coordinate_descent.py:678: ConvergenceWarning: Objective did not converge. You might want to increase the number of iterations, check the scale of the features or consider increasing regularisation. Duality gap: 4.742e+08, tolerance: 2.473e+08\n",
      "  model = cd_fast.enet_coordinate_descent(\n"
     ]
    }
   ],
   "source": [
    "from sklearn.linear_model import Lasso\n",
    "\n",
    "# Train the model\n",
    "lasso = Lasso(alpha = 0.5 )\n",
    "lasso.fit(X_train, y_train)\n",
    "y_pred1 = lasso.predict(X_test)\n",
    "\n",
    "# Evaluate\n",
    "print('mean_squared_error : ', mean_squared_error(y_test, y_pred1)) \n",
    "print('mean_absolute_error : ', mean_absolute_error(y_test, y_pred1))\n",
    "print('r2_score : ', r2_score(y_test, y_pred1))  "
   ]
  },
  {
   "cell_type": "markdown",
   "metadata": {},
   "source": [
    "## Elastic Net Regularization"
   ]
  },
  {
   "cell_type": "code",
   "execution_count": 82,
   "metadata": {},
   "outputs": [
    {
     "name": "stdout",
     "output_type": "stream",
     "text": [
      "mean_squared_error :  337079.31124277844\n",
      "mean_absolute_error :  281.2675279460548\n",
      "r2_score :  0.9995294243764518\n"
     ]
    },
    {
     "name": "stderr",
     "output_type": "stream",
     "text": [
      "c:\\Users\\Niket Ralebhat\\AppData\\Local\\Programs\\Python\\Python312\\Lib\\site-packages\\sklearn\\linear_model\\_coordinate_descent.py:678: ConvergenceWarning: Objective did not converge. You might want to increase the number of iterations, check the scale of the features or consider increasing regularisation. Duality gap: 4.742e+08, tolerance: 2.473e+08\n",
      "  model = cd_fast.enet_coordinate_descent(\n"
     ]
    }
   ],
   "source": [
    "from sklearn.linear_model import ElasticNet\n",
    " \n",
    "# Train the model\n",
    "e_net = ElasticNet(alpha = 0.5)\n",
    "e_net.fit(X_train, y_train)\n",
    "y_pred_elastic = e_net.predict(X_test)\n",
    "\n",
    "# Evaluate\n",
    "print('mean_squared_error : ', mean_squared_error(y_test, y_pred_elastic)) \n",
    "print('mean_absolute_error : ', mean_absolute_error(y_test, y_pred_elastic))\n",
    "print('r2_score : ', r2_score(y_test, y_pred_elastic)) "
   ]
  }
 ],
 "metadata": {
  "kernelspec": {
   "display_name": "Python 3",
   "language": "python",
   "name": "python3"
  },
  "language_info": {
   "codemirror_mode": {
    "name": "ipython",
    "version": 3
   },
   "file_extension": ".py",
   "mimetype": "text/x-python",
   "name": "python",
   "nbconvert_exporter": "python",
   "pygments_lexer": "ipython3",
   "version": "3.12.0"
  }
 },
 "nbformat": 4,
 "nbformat_minor": 2
}
