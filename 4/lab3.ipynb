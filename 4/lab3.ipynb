{
 "cells": [
  {
   "cell_type": "markdown",
   "metadata": {},
   "source": [
    "**Name : Niket Ralebhat** \\\n",
    "**Section : Cse 2** \\\n",
    "**Scholar Number : 211112268**  "
   ]
  },
  {
   "cell_type": "code",
   "execution_count": 1,
   "metadata": {},
   "outputs": [],
   "source": [
    "from sklearn import datasets\n",
    "\n",
    "iris = datasets.load_iris()\n",
    "x_train = iris.data\n",
    "y_train = iris.target\n",
    "feature_name = iris.feature_names\n",
    "target_names = iris.target_names"
   ]
  },
  {
   "cell_type": "code",
   "execution_count": 2,
   "metadata": {},
   "outputs": [],
   "source": [
    "import numpy as np\n",
    "from sklearn.metrics import confusion_matrix, precision_score, recall_score, roc_auc_score, roc_curve, f1_score, accuracy_score\n",
    "\n",
    "def performance_metrics(y_true, y_pred, y_prob=None):\n",
    "    # 1. Confusion Matrix\n",
    "    cm = confusion_matrix(y_true, y_pred)\n",
    "    \n",
    "    # 2. Precision\n",
    "    precision = precision_score(y_true, y_pred , average=\"micro\")\n",
    "    \n",
    "    # 3. Recall\n",
    "    recall = recall_score(y_true, y_pred , average=\"micro\")\n",
    "    \n",
    "    # 4. Gmean\n",
    "    gmean = np.sqrt(recall * (1 - precision))\n",
    "    \n",
    "    # 5. True Positive Rate\n",
    "    tpr = recall\n",
    "    \n",
    "    # 6. Area under Curve (ROC AUC Score)\n",
    "    auc = roc_auc_score(y_true, y_prob) if y_prob is not None else None\n",
    "    \n",
    "    # 7. False Alarm Rate (Fallout)\n",
    "    fpr = 1 - recall\n",
    "    \n",
    "    # 8. F1 Score (F-Measure)\n",
    "    f1 = f1_score(y_true, y_pred , average=\"micro\")\n",
    "    \n",
    "    # 9. Overall Accuracy\n",
    "    accuracy = accuracy_score(y_true, y_pred)\n",
    "    \n",
    "    return {\n",
    "        \"Confusion Matrix\": cm,\n",
    "        \"Precision\": precision,\n",
    "        \"Recall\": recall,\n",
    "        \"Gmean\": gmean,\n",
    "        \"True Positive Rate\": tpr,\n",
    "        \"Area under Curve\": auc,\n",
    "        \"False Alarm Rate\": fpr,\n",
    "        \"F1 Score\": f1,\n",
    "        \"Overall Accuracy\": accuracy\n",
    "    }\n",
    "\n",
    "\n"
   ]
  },
  {
   "cell_type": "markdown",
   "metadata": {},
   "source": [
    "# Write a python program of naive bayes classifier for iris dataset classification"
   ]
  },
  {
   "cell_type": "code",
   "execution_count": 3,
   "metadata": {},
   "outputs": [
    {
     "name": "stdout",
     "output_type": "stream",
     "text": [
      "Number of mislabeled points out of a total 75 points : 4\n",
      "Confusion Matrix: [[21  0  0]\n",
      " [ 0 30  0]\n",
      " [ 0  4 20]]\n",
      "Precision: 0.9466666666666667\n",
      "Recall: 0.9466666666666667\n",
      "Gmean: 0.2246973272847029\n",
      "True Positive Rate: 0.9466666666666667\n",
      "Area under Curve: None\n",
      "False Alarm Rate: 0.053333333333333344\n",
      "F1 Score: 0.9466666666666667\n",
      "Overall Accuracy: 0.9466666666666667\n"
     ]
    }
   ],
   "source": [
    "from sklearn.datasets import load_iris\n",
    "from sklearn.model_selection import train_test_split\n",
    "from sklearn.naive_bayes import GaussianNB\n",
    "X, y = load_iris(return_X_y=True)\n",
    "X_train, X_test, y_train, y_test = train_test_split(X, y, test_size=0.5, random_state=0)\n",
    "gnb = GaussianNB()\n",
    "y_pred = gnb.fit(X_train, y_train).predict(X_test)\n",
    "print(\"Number of mislabeled points out of a total %d points : %d\"\n",
    "      % (X_test.shape[0], (y_test != y_pred).sum()))\n",
    "\n",
    "from sklearn.metrics import confusion_matrix\n",
    "confusion_matrix(y_test, y_pred)\n",
    "\n",
    "metrics = performance_metrics(y_test, y_pred)\n",
    "for metric, value in metrics.items():\n",
    "    print(f\"{metric}: {value}\")\n"
   ]
  },
  {
   "cell_type": "markdown",
   "metadata": {},
   "source": [
    "# Write a python program of naive bayes classifier for Play Tennis dataset classification"
   ]
  },
  {
   "cell_type": "code",
   "execution_count": 4,
   "metadata": {},
   "outputs": [
    {
     "name": "stdout",
     "output_type": "stream",
     "text": [
      "Number of mislabeled points out of a total 5 points : 1\n",
      "Confusion Matrix: [[2 0]\n",
      " [1 2]]\n",
      "Precision: 0.8\n",
      "Recall: 0.8\n",
      "Gmean: 0.39999999999999997\n",
      "True Positive Rate: 0.8\n",
      "Area under Curve: None\n",
      "False Alarm Rate: 0.19999999999999996\n",
      "F1 Score: 0.8\n",
      "Overall Accuracy: 0.8\n"
     ]
    }
   ],
   "source": [
    "import numpy as np\n",
    "import pandas as pd\n",
    "from sklearn import preprocessing\n",
    "from sklearn import metrics\n",
    "df=pd.read_csv(\"Play Tennis.csv\")\n",
    "\n",
    "le = preprocessing.LabelEncoder()\n",
    "data_train_df = pd.DataFrame(df)\n",
    "data_train_df_encoded = data_train_df.apply(le.fit_transform)\n",
    "\n",
    "feature_cols = ['Outlook','Temprature','Humidity','Wind']\n",
    "X = data_train_df_encoded[feature_cols ]                               \n",
    "y = data_train_df_encoded.Play_Tennis \n",
    "from sklearn.model_selection import train_test_split\n",
    "X_train, X_test, y_train, y_test = train_test_split(X, y, test_size=0.30) \n",
    "\n",
    "gnb = GaussianNB()\n",
    "y_pred = gnb.fit(X_train, y_train).predict(X_test)\n",
    "print(\"Number of mislabeled points out of a total %d points : %d\"\n",
    "      % (X_test.shape[0], (y_test != y_pred).sum()))\n",
    "\n",
    "from sklearn.metrics import confusion_matrix\n",
    "confusion_matrix(y_test, y_pred)\n",
    "\n",
    "metrics = performance_metrics(y_test, y_pred)\n",
    "for metric, value in metrics.items():\n",
    "    print(f\"{metric}: {value}\")"
   ]
  },
  {
   "cell_type": "markdown",
   "metadata": {},
   "source": [
    "# Write a python program of naive bayes classifier for Large Movie Review Dataset dataset classification"
   ]
  },
  {
   "cell_type": "code",
   "execution_count": 5,
   "metadata": {},
   "outputs": [
    {
     "name": "stdout",
     "output_type": "stream",
     "text": [
      "Confusion Matrix: [[6295 1116]\n",
      " [1218 6371]]\n",
      "Precision: 0.8444\n",
      "Recall: 0.8444\n",
      "Gmean: 0.36247570953099734\n",
      "True Positive Rate: 0.8444\n",
      "Area under Curve: None\n",
      "False Alarm Rate: 0.15559999999999996\n",
      "F1 Score: 0.8444\n",
      "Overall Accuracy: 0.8444\n"
     ]
    }
   ],
   "source": [
    "import pandas as pd\n",
    "from sklearn.feature_extraction.text import CountVectorizer\n",
    "from sklearn.model_selection import train_test_split\n",
    "from sklearn.naive_bayes import MultinomialNB\n",
    "from sklearn import metrics\n",
    "\n",
    "df = pd.read_csv(\"IMDB Dataset.csv\")\n",
    "\n",
    "vectorizer = CountVectorizer(stop_words='english', max_features=5000)\n",
    "X = vectorizer.fit_transform(df['review'].values.astype('U')).toarray()\n",
    "y = df['sentiment'].map({'positive': 1, 'negative': 0})\n",
    "\n",
    "X_train, X_test, y_train, y_test = train_test_split(X, y, test_size=0.3, random_state=42)\n",
    "\n",
    "clf = MultinomialNB()\n",
    "\n",
    "clf.fit(X_train, y_train)\n",
    "\n",
    "y_pred = clf.predict(X_test)\n",
    "\n",
    "metrics = performance_metrics(y_test, y_pred)\n",
    "for metric, value in metrics.items():\n",
    "    print(f\"{metric}: {value}\")"
   ]
  }
 ],
 "metadata": {
  "kernelspec": {
   "display_name": "Python 3",
   "language": "python",
   "name": "python3"
  },
  "language_info": {
   "codemirror_mode": {
    "name": "ipython",
    "version": 3
   },
   "file_extension": ".py",
   "mimetype": "text/x-python",
   "name": "python",
   "nbconvert_exporter": "python",
   "pygments_lexer": "ipython3",
   "version": "3.12.0"
  }
 },
 "nbformat": 4,
 "nbformat_minor": 2
}
